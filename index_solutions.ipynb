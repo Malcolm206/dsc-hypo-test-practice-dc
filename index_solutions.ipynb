{
 "cells": [
  {
   "cell_type": "markdown",
   "metadata": {},
   "source": [
    "# Mod 2 Code Challenge Review\n",
    "\n",
    "You've come a long way with this material\n",
    "\n",
    "Close out strong\n",
    "\n",
    "![](https://media.giphy.com/media/f8mFljwmfesZHvC0YP/giphy.gif)"
   ]
  },
  {
   "cell_type": "markdown",
   "metadata": {},
   "source": [
    "### Hypothesis tests\n",
    "\n",
    "For each, write:\n",
    "\n",
    "- A null hypothesis \n",
    "- An alternative hypothesis\n",
    "- Specify an alpha level\n",
    "- Specify what Type I error and Type II error would be (in English, without reference to the words `null`, `hypothesis`, or `alternative`\n",
    "\n",
    "We have a scores from a given classroom and want to know how they compare to the rest of the district.  We have all of the district's information."
   ]
  },
  {
   "cell_type": "markdown",
   "metadata": {},
   "source": []
  },
  {
   "cell_type": "markdown",
   "metadata": {},
   "source": [
    "We have two samples of weights of fish from two adjacent lakes.  We want to know if Lake Winnetonka's fish are smaller than Lake Okachobee's."
   ]
  },
  {
   "cell_type": "markdown",
   "metadata": {},
   "source": []
  },
  {
   "cell_type": "markdown",
   "metadata": {},
   "source": [
    "We want to know if Guns 'n Roses rocks harder than Aerosmith, and are taking as a proxy \"noise levels = how hard a band rocks\".  We sample dB levels from 40 years of concerts.  Slash is looking over our shoulder the whole time.  "
   ]
  },
  {
   "cell_type": "markdown",
   "metadata": {},
   "source": [
    "### Calculation Examples\n",
    "\n",
    "For each of the questions below:\n",
    "\n",
    "- What is the null hypothesis?  What is the alternative?\n",
    "\n",
    "- What level of alpha are we using?  \n",
    "\n",
    "\n",
    "- What specific test are we using?\n",
    "    - **why?**\n",
    "\n",
    "\n",
    "- What is the critical statistic(s) at which we will designate evidence for rejecting the null?\n",
    "\n",
    "- What is the test-statistic?\n",
    "\n",
    "- What is the p-value?\n",
    "\n",
    "- Should we accept or reject the null hypothesis?\n",
    "\n",
    "- In English, what's the answer to the question?"
   ]
  },
  {
   "cell_type": "markdown",
   "metadata": {},
   "source": [
    "### Z-test example\n",
    "\n",
    "An SAT prep class of 40 students takes the SAT and gets the following scores:\n",
    "\n",
    "'''434 694 457 534 720 400 484 478 610 641 \n",
    "425 636 454 514 563 370 499 640 501 625 \n",
    "519 471 598 509 531 511 675 450 485 507 \n",
    "550 512 542 633 575 595 508 499 490 597 \n",
    "522 504 550 430 400'''\n",
    "\n",
    "We know the average for SAT scores as a whole is 500 with a standard deviation of 100\n",
    "\n",
    "Did this SAT prep class result in a significantly greater mean of scores than average?\n",
    "(use an alpha level of .05)\n",
    "\n",
    "[z-table](https://www.z-table.com) to use for calculations if you wish"
   ]
  },
  {
   "cell_type": "code",
   "execution_count": null,
   "metadata": {},
   "outputs": [],
   "source": [
    "\n",
    "\n",
    "from scipy import stats\n",
    "import numpy as np\n",
    "\n",
    "data = '''434 694 457 534 720 400 484 478 610 641 \n",
    "425 636 454 514 563 370 499 640 501 625 \n",
    "519 471 598 509 531 511 675 450 485 507 \n",
    "550 512 542 633 575 595 508 499 490 597 \n",
    "522 504 550 430 400'''\n",
    "\n",
    "def parse_data(data_to_parse, splits=' '):\n",
    "    parsed = [float(val) for val in data_to_parse.split(splits)]\n",
    "    return parsed\n",
    "\n",
    "data = parse_data(data)\n",
    "\n",
    "mean = np.mean(data)\n",
    "std = np.std(data)\n",
    "\n",
    "denom = 100/np.sqrt(len(data))\n",
    "\n",
    "z = (mean - 500)/denom\n",
    "print(z)\n",
    "print(f'from z-table, z-score of 2.00 has distribution at or below of .9772')\n",
    "print(stats.norm.cdf(z))\n",
    "print(stats.norm.sf(z)) "
   ]
  },
  {
   "cell_type": "markdown",
   "metadata": {},
   "source": [
    "### Example: T-test\n",
    "\n",
    "#### T-test question 1\n",
    "\n",
    "Samples of diastolic blood pressure were takin from a sample of 20 female doctors\n",
    "\n",
    "128 127 118 115 144 142 133 140 132 131 111 132 149 122 139 119 136 129 126 128\n",
    "\n",
    "The mean female population diastolic blood pressure is 120\n",
    "\n",
    "Are female doctor diastolic blood pressures significantly higher than the female population's?"
   ]
  },
  {
   "cell_type": "code",
   "execution_count": null,
   "metadata": {},
   "outputs": [],
   "source": [
    "from scipy.stats import ttest_1samp\n",
    "\n",
    "data = '128 127 118 115 144 142 133 140 132 131 111 132 149 122 139 119 136 129 126 128'\n",
    "data = parse_data(data, splits = ' ')\n",
    "\n",
    "critical_tstat = stats.t.ppf(.95, 19)\n",
    "print(critical_tstat)\n",
    "print(ttest_1samp(data, 120))\n",
    "print(ttest_1samp(data, 120).pvalue/2)"
   ]
  },
  {
   "cell_type": "markdown",
   "metadata": {},
   "source": [
    "#### T-test question 2\n",
    "\n",
    "Tesla claims that they're miles-per-15min-of-charge average 31 \n",
    "\n",
    "You are hired by an eccentric Silicon Valley entreprenuer to test his fleet of 8 Teslas and see if the claim holds up\n",
    "\n",
    "You have a fair amount of driving around generating the data, and when you do you get these results:\n",
    "\n",
    "30 28 32 26 33 25 28 30\n",
    "\n",
    "Is Elon Musk a dirty liar?"
   ]
  },
  {
   "cell_type": "code",
   "execution_count": null,
   "metadata": {},
   "outputs": [],
   "source": [
    "data = '30 28 32 26 33 25 28 30'\n",
    "\n",
    "data = parse_data(data)\n",
    "\n",
    "critical_tstat_below = stats.t.ppf(.025, 7)\n",
    "critical_tstat_above = stats.t.ppf(.975, 7)\n",
    "\n",
    "print(f'critical t_stat range: {critical_tstat_below}, {critical_tstat_above}')\n",
    "\n",
    "print(ttest_1samp(data, 31))"
   ]
  },
  {
   "cell_type": "markdown",
   "metadata": {},
   "source": [
    "#### T-test question 3\n",
    "\n",
    "You are an archeologist.  Not Indiana Jones, the non-violent kind.  And at two sites you come across a series of shards from pots.\n",
    "\n",
    "You know from your boring archeologist training that different thicknesses at the lip of the pots indicate different ceremonial functions.  \n",
    "\n",
    "You want to test the two samples of shard thickness to see if the thickness is due to chance at the two sites.\n",
    "\n",
    "Sample 1 has slightly thicker shards overall, so you want to test if the mean of sample 1 lip thickness is higher than the mean of sample 2 lip thickness.  \n",
    "\n",
    "Assume that the two sample variances are equal.\n",
    "\n",
    "Sample 1 data:\n",
    "19.7475 19.8387 12.6873 17.6973 19.0878 30.5562 14.5291 14.7627 14.3439 12.5745 11.0734 19.4998 18.3869 10.7374 18.0030 18.1730 18.8374 17.9287 15.3563 18.6004 11.7280 12.2898 21.0552 21.4184 25.5953\n",
    "\n",
    "Sample 2 data:\n",
    "17.4715 20.0386 12.6012 20.4401 22.4969 9.8613 19.6289 9.7741 15.1119 17.4448 23.4827 24.9357 19.9265 7.9955 17.6675 13.6029 17.8812 16.4178 5.1385 7.0984 18.1181 20.2681 14.7372 22.5915 16.7546"
   ]
  },
  {
   "cell_type": "code",
   "execution_count": null,
   "metadata": {},
   "outputs": [],
   "source": [
    "\n",
    "from scipy.stats import ttest_ind\n",
    "\n",
    "sample_1 = '19.7475 19.8387 12.6873 17.6973 19.0878 30.5562 14.5291 14.7627 14.3439 12.5745 11.0734 19.4998 18.3869 10.7374 18.0030 18.1730 18.8374 17.9287 15.3563 18.6004 11.7280 12.2898 21.0552 21.4184 25.5953'\n",
    "sample_2 = '17.4715 20.0386 12.6012 20.4401 22.4969 9.8613 19.6289 9.7741 15.1119 17.4448 23.4827 24.9357 19.9265 7.9955 17.6675 13.6029 17.8812 16.4178 5.1385 7.0984 18.1181 20.2681 14.7372 22.5915 16.7546'\n",
    "\n",
    "sample_1 = parse_data(sample_1)\n",
    "sample_2 = parse_data(sample_2)\n",
    "\n",
    "critical_tstat_below = stats.t.ppf(.95, 48)\n",
    "print(f'critical t_stat: {critical_tstat_below}')\n",
    "\n",
    "\n",
    "ttest_result = ttest_ind(sample_1, sample_2, equal_var = True)\n",
    "print(f'test t-stat: {ttest_result.statistic}')\n",
    "print(f'pvalue = {ttest_result.pvalue/2}')"
   ]
  },
  {
   "cell_type": "markdown",
   "metadata": {},
   "source": [
    "### T-test question 4\n",
    "\n",
    "Two sets of female rats were given a high- and low-protein diet, respectively, after giving birth.  Their weights were measured after 2 months.\n",
    "\n",
    "Set 1 (high protein) = 134 146 104 119 124 161 107 83 113 129 97 123\n",
    "\n",
    "Set 2 (low protein) = 70 118 101 85 107 132 94\n",
    "\n",
    "Is there a difference in rat weight between high- and low-protein diets after giving birth in this experiment?\n",
    "(Assume the sample variances are equal)"
   ]
  },
  {
   "cell_type": "code",
   "execution_count": null,
   "metadata": {},
   "outputs": [],
   "source": [
    "\n",
    "rats_1 = parse_data('134 146 104 119 124 161 107 83 113 129 97 123')\n",
    "rats_2 = parse_data('70 118 101 85 107 132 94')\n",
    "\n",
    "critical_tstat_low = stats.t.ppf(.025, 17)\n",
    "critical_tstat_high = stats.t.ppf(.975, 17)\n",
    "print(f'critical t_stat range: {critical_tstat_low}, {critical_tstat_high}')\n",
    "\n",
    "ttest_result = ttest_ind(rats_1, rats_2, equal_var=True)\n",
    "print(f'test t-stat: {ttest_result.statistic}')\n",
    "print(f'pvalue = {ttest_result.pvalue}')"
   ]
  },
  {
   "cell_type": "markdown",
   "metadata": {},
   "source": [
    "#### T-test question 5\n",
    "\n",
    "Get a wee bit of practice w/ pandas again, eh?\n",
    "\n",
    "Back to the data about Seattle city service `hourly_rate` compensation\n",
    "\n",
    "There's a national debate about whether construction workers or HR people account for more \"bloat\" in the system.  Construciton workers argue that there are a higher percentage of \"junior\" positions in their departments, while HR people have more \"senior\" positions.  \n",
    "\n",
    "Let's test that with the Seattle data.\n",
    "\n",
    "Create a dataframe of:\n",
    "- jobs in the `Construction and Inspections` dept\n",
    "- jobs in the `Human Services Dept` . . . dept\n",
    "- that don't have `Sr` as the last two letters in their title\n",
    "\n",
    "Sample 50 junior employees from each department (`random_state=33`)\n",
    "\n",
    "Use those employees to provide evidence for the question: do junior employees in construction departments have different `hourly_rate` compensation than those in HR departments?"
   ]
  },
  {
   "cell_type": "code",
   "execution_count": null,
   "metadata": {},
   "outputs": [],
   "source": [
    "\n",
    "import pandas as pd\n",
    "\n",
    "df = pd.read_csv('data/data.csv')\n",
    "\n",
    "juniors = df[\n",
    "    ~df['job_title']\n",
    "    .isin(\n",
    "        [x for x \n",
    "         in df['job_title'] \n",
    "         if x[-2:]=='Sr'\n",
    "        ]\n",
    "    )\n",
    "]\n",
    "\n",
    "const_jr = juniors[\n",
    "    juniors.\n",
    "    department=='Construction & Inspections'\n",
    "]\n",
    "\n",
    "const_total = len(df[df.department=='Construction & Inspections'])\n",
    "\n",
    "hr_jr = juniors[\n",
    "    juniors.\n",
    "    department=='Human Services Department'\n",
    "]\n",
    "\n",
    "hr_total = len(df[df.department=='Human Services Department'])\n",
    "\n",
    "\n",
    "print(f'jr jobs in construction and human services: {len(const_jr)} and {len(hr_jr)}')\n",
    "print()\n",
    "print(f'and as a %age: {len(const_jr)/const_total}, {len(hr_jr)/hr_total}')\n",
    "\n",
    "critical_tstat_low = stats.t.ppf(.025, 98)\n",
    "critical_tstat_high = stats.t.ppf(.975, 98)\n",
    "print(f'critical t_stat range: {critical_tstat_low}, {critical_tstat_high}')\n",
    "\n",
    "hr = hr_jr.sample(50, axis=0, random_state=33)['hourly_rate']\n",
    "const = const_jr.sample(50, axis=0, random_state=33)['hourly_rate']\n",
    "\n",
    "ttest_result = ttest_ind(hr, const, equal_var=False)\n",
    "print(f'test t-stat: {ttest_result.statistic}')\n",
    "print(f'pvalue = {ttest_result.pvalue}')"
   ]
  }
 ],
 "metadata": {
  "kernelspec": {
   "display_name": "learn-env",
   "language": "python",
   "name": "learn-env"
  },
  "language_info": {
   "codemirror_mode": {
    "name": "ipython",
    "version": 3
   },
   "file_extension": ".py",
   "mimetype": "text/x-python",
   "name": "python",
   "nbconvert_exporter": "python",
   "pygments_lexer": "ipython3",
   "version": "3.7.4"
  }
 },
 "nbformat": 4,
 "nbformat_minor": 4
}
